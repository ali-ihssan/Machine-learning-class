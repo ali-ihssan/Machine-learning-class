{
  "nbformat": 4,
  "nbformat_minor": 0,
  "metadata": {
    "colab": {
      "provenance": [],
      "include_colab_link": true
    },
    "kernelspec": {
      "name": "python3",
      "display_name": "Python 3"
    },
    "language_info": {
      "name": "python"
    }
  },
  "cells": [
    {
      "cell_type": "markdown",
      "metadata": {
        "id": "view-in-github",
        "colab_type": "text"
      },
      "source": [
        "<a href=\"https://colab.research.google.com/github/ali-ihssan/Machine-learning-class/blob/main/CNN.ipynb\" target=\"_parent\"><img src=\"https://colab.research.google.com/assets/colab-badge.svg\" alt=\"Open In Colab\"/></a>"
      ]
    },
    {
      "cell_type": "code",
      "execution_count": null,
      "metadata": {
        "id": "S_qAAiWxh76L"
      },
      "outputs": [],
      "source": [
        "import torch\n",
        "import torch.nn as nn\n",
        "import torch.nn.functional as F\n",
        "import torchvision\n",
        "import torchvision.transforms as transforms\n",
        "import matplotlib.pyplot as plt\n",
        "import numpy as np\n"
      ]
    },
    {
      "cell_type": "code",
      "source": [
        "### Create a 3 by 3 matrix, perform convolution with 2x2 filter size and valid convolution. Print the input and output shape\n",
        "\n",
        "# With kernels and equal stride\n",
        "m = nn.Conv2d(1, 1, (2, 2))\n",
        "\n",
        "input = torch.randn(20, 1, 3, 3)\n",
        "output = m(input)\n",
        "\n",
        "print('input size: '+ str(np.shape(input)))\n",
        "print('output size: '+ str(np.shape(output)))"
      ],
      "metadata": {
        "id": "yLRoLsyJ7zNV"
      },
      "execution_count": null,
      "outputs": []
    },
    {
      "cell_type": "code",
      "source": [
        "### Create a 6 by 6 matrix, perform convolution with 3x3 filter size and valid convolution. Print the input and output shape\n",
        "\n",
        "# With kernels and equal stride\n",
        "m = nn.Conv2d(1, 1, (3, 3))\n",
        "\n",
        "input = torch.randn(20, 1, 6, 6)\n",
        "output = m(input)\n",
        "\n",
        "print('input size: '+ str(np.shape(input)))\n",
        "print('output size: '+ str(np.shape(output)))\n"
      ],
      "metadata": {
        "id": "DjQBMvfkIlLf"
      },
      "execution_count": null,
      "outputs": []
    },
    {
      "cell_type": "code",
      "source": [
        "### Write a python code to perform the above task\n",
        "\n",
        "# With kernels and equal stride\n",
        "m = nn.Conv2d(1, 1, (1, 2), padding='same')\n",
        "\n",
        "input = torch.randn(20, 1, 1, 7)\n",
        "output = m(input)\n",
        "\n",
        "print('input size: '+ str(np.shape(input)))\n",
        "print('output size: '+ str(np.shape(output)))"
      ],
      "metadata": {
        "id": "mvaq_W8aIpcX"
      },
      "execution_count": null,
      "outputs": []
    },
    {
      "cell_type": "code",
      "source": [
        "### Create a 3 by 3 matrix, perform convolution with 2x2 filter size,\n",
        "# valid convolution and stride=2. Write a code to perform this action and\n",
        "# find out the output shape\n",
        "\n",
        "\n",
        "# With kernels and equal stride\n",
        "m = nn.Conv2d(1, 1, (2, 2), stride = 2, padding='valid')\n",
        "\n",
        "input = torch.randn(20, 1, 3, 3)\n",
        "output = m(input)\n",
        "\n",
        "print('input size: '+ str(np.shape(input)))\n",
        "print('output size: '+ str(np.shape(output)))"
      ],
      "metadata": {
        "id": "JxNvwcNjItBI"
      },
      "execution_count": null,
      "outputs": []
    },
    {
      "cell_type": "code",
      "source": [
        "### Create a 6 by 6 matrix, perform convolution with 3x3 filter size,\n",
        "# valid convolution and stride = 2. Write a code to perform this action and\n",
        "# find out the output shape\n",
        "\n",
        "# With kernels and equal stride\n",
        "m = nn.Conv2d(1, 1, (3, 3), stride = 2, padding='valid')\n",
        "\n",
        "input = torch.randn(1, 1, 6, 6)\n",
        "output = m(input)\n",
        "\n",
        "print('input size: '+ str(np.shape(input)))\n",
        "print('output size: '+ str(np.shape(output)))"
      ],
      "metadata": {
        "id": "uuiokKRxIvXJ"
      },
      "execution_count": null,
      "outputs": []
    },
    {
      "cell_type": "code",
      "source": [
        "### Write a python code to perform the above task\n",
        "### Image is a gray scale (only one channel)\n",
        "### Input size – 32, 32\n",
        "### Output size – 28, 28\n",
        "\n",
        "# With kernels and equal stride\n",
        "m = nn.Conv2d(1, 6, 5)\n",
        "\n",
        "input = torch.randn(1, 1, 32, 32)\n",
        "output = m(input)\n",
        "\n",
        "print('input size: '+ str(np.shape(input)))\n",
        "print('output size: '+ str(np.shape(output)))"
      ],
      "metadata": {
        "id": "JSoiH0xkJGA2"
      },
      "execution_count": null,
      "outputs": []
    },
    {
      "cell_type": "code",
      "source": [
        "### Write a python code to perform the above task\n",
        "### Image is a gray scale (only one channel)\n",
        "### Input size – 32, 32\n",
        "### Output size – 14, 14\n",
        "\n",
        "# With kernels and equal stride\n",
        "m1 = nn.Conv2d(1, 6, 5)\n",
        "m2 = nn.Conv2d(6, 6, 2, stride=2)\n",
        "\n",
        "input = torch.randn(1, 1, 32, 32)\n",
        "hidden1 = m1(input)\n",
        "output = m2(hidden1)\n",
        "\n",
        "print('input size: '+ str(np.shape(input)))\n",
        "print('hidden1 size: '+ str(np.shape(hidden1)))\n",
        "print('output size: '+ str(np.shape(output)))\n",
        "\n"
      ],
      "metadata": {
        "id": "XUOxr6weJLgi"
      },
      "execution_count": null,
      "outputs": []
    },
    {
      "cell_type": "code",
      "source": [
        "### Write a python code to perform the above task\n",
        "### Image is a gray scale (only one channel)\n",
        "### Input size – 32, 32\n",
        "### Output size – 5, 5\n",
        "\n",
        "# With kernels and equal stride\n",
        "m1 = nn.Conv2d(1, 6, 5)\n",
        "m2 = nn.Conv2d(6, 6, 2, stride=2)\n",
        "m3 = nn.Conv2d(6, 16, 5)\n",
        "m4 = nn.Conv2d(16, 16, 1, stride=2)\n",
        "\n",
        "input = torch.randn(1, 1, 32, 32)\n",
        "hidden1 = m1(input)\n",
        "hidden2 = m2(hidden1)\n",
        "hidden3 = m3(hidden2)\n",
        "output = m4(hidden3)\n",
        "\n",
        "print('input size: '+ str(np.shape(input)))\n",
        "print('hidden1 size: '+ str(np.shape(hidden1)))\n",
        "print('hidden2 size: '+ str(np.shape(hidden2)))\n",
        "print('hidden3 size: '+ str(np.shape(hidden3)))\n",
        "print('output size: '+ str(np.shape(output)))"
      ],
      "metadata": {
        "id": "vK9yrk96JNut"
      },
      "execution_count": null,
      "outputs": []
    },
    {
      "cell_type": "code",
      "source": [
        "## Write a python code to create the end-to-end pipeline of above task.\n",
        "\n",
        "# With kernels and equal stride\n",
        "m1 = nn.Conv2d(1, 6, 5)\n",
        "m2 = nn.Conv2d(6, 6, 2, stride=2)\n",
        "m3 = nn.Conv2d(6, 16, 5)\n",
        "m4 = nn.Conv2d(16, 16, 1, stride=2)\n",
        "fc1 = nn.Linear(16*5*5, 120)\n",
        "fc2 = nn.Linear(120, 84)\n",
        "fc3 = nn.Linear(84, 10)\n",
        "\n",
        "input = torch.randn(1, 1, 32, 32)\n",
        "hidden1 = m1(input)\n",
        "hidden2 = m2(hidden1)\n",
        "hidden3 = m3(hidden2)\n",
        "hidden4 = m4(hidden3)\n",
        "fc1_layer = torch.flatten(hidden4, 1)\n",
        "fc2_layer = fc1(fc1_layer)\n",
        "fc3_layer = fc2(fc2_layer)\n",
        "output = fc3(fc3_layer)\n",
        "\n",
        "print('input size: '+ str(np.shape(input)))\n",
        "print('hidden1 size: '+ str(np.shape(hidden1)))\n",
        "print('hidden2 size: '+ str(np.shape(hidden2)))\n",
        "print('hidden3 size: '+ str(np.shape(hidden3)))\n",
        "print('hidden4 size: '+ str(np.shape(hidden4)))\n",
        "print('fc1_layer size: '+ str(np.shape(fc1_layer)))\n",
        "print('fc2_layer size: '+ str(np.shape(fc2_layer)))\n",
        "print('fc3_layer size: '+ str(np.shape(fc3_layer)))\n",
        "print('output size: '+ str(np.shape(output)))"
      ],
      "metadata": {
        "id": "xOOobKS-JVAf",
        "colab": {
          "base_uri": "https://localhost:8080/"
        },
        "outputId": "370fe692-8903-40cf-e407-68c950d0202d"
      },
      "execution_count": null,
      "outputs": [
        {
          "output_type": "stream",
          "name": "stdout",
          "text": [
            "input size: torch.Size([1, 1, 32, 32])\n",
            "hidden1 size: torch.Size([1, 6, 28, 28])\n",
            "hidden2 size: torch.Size([1, 6, 14, 14])\n",
            "hidden3 size: torch.Size([1, 16, 10, 10])\n",
            "hidden4 size: torch.Size([1, 16, 5, 5])\n",
            "fc1_layer size: torch.Size([1, 400])\n",
            "fc2_layer size: torch.Size([1, 120])\n",
            "fc3_layer size: torch.Size([1, 84])\n",
            "output size: torch.Size([1, 10])\n"
          ]
        }
      ]
    },
    {
      "cell_type": "code",
      "source": [
        "class ConvNet(torch.nn.Module):\n",
        "  def __init__(self):\n",
        "    super(ConvNet, self).__init__()\n",
        "    self.m1 = nn.Conv2d(1, 6, 5)\n",
        "    self.m2 = nn.Conv2d(6, 6, 2, stride=2)\n",
        "    self.m3 = nn.Conv2d(6, 16, 5)\n",
        "    self.m4 = nn.Conv2d(16, 16, 1, stride=2)\n",
        "    self.fc1 = nn.Linear(16*5*5, 120)\n",
        "    self.fc2 = nn.Linear(120, 84)\n",
        "    self.fc3 = nn.Linear(84, 10)\n",
        "\n",
        "  def forward(self, x):\n",
        "    x = self.m1(x)\n",
        "    x = self.m2(x)\n",
        "    x = self.m3(x)\n",
        "    x = self.m4(x)\n",
        "    x = torch.flatten(x, 1)\n",
        "    x = self.fc1(x)\n",
        "    x = self.fc2(x)\n",
        "    x = self.fc3(x)\n",
        "    return x\n",
        "\n",
        "from torchsummary import summary\n",
        "model = ConvNet()\n",
        "summary(model, (1, 32, 32))"
      ],
      "metadata": {
        "colab": {
          "base_uri": "https://localhost:8080/"
        },
        "id": "rH3M62biMqFf",
        "outputId": "5311caae-d547-4e0c-c412-be9041944277"
      },
      "execution_count": null,
      "outputs": [
        {
          "output_type": "stream",
          "name": "stdout",
          "text": [
            "----------------------------------------------------------------\n",
            "        Layer (type)               Output Shape         Param #\n",
            "================================================================\n",
            "            Conv2d-1            [-1, 6, 28, 28]             156\n",
            "            Conv2d-2            [-1, 6, 14, 14]             150\n",
            "            Conv2d-3           [-1, 16, 10, 10]           2,416\n",
            "            Conv2d-4             [-1, 16, 5, 5]             272\n",
            "            Linear-5                  [-1, 120]          48,120\n",
            "            Linear-6                   [-1, 84]          10,164\n",
            "            Linear-7                   [-1, 10]             850\n",
            "================================================================\n",
            "Total params: 62,128\n",
            "Trainable params: 62,128\n",
            "Non-trainable params: 0\n",
            "----------------------------------------------------------------\n",
            "Input size (MB): 0.00\n",
            "Forward/backward pass size (MB): 0.06\n",
            "Params size (MB): 0.24\n",
            "Estimated Total Size (MB): 0.30\n",
            "----------------------------------------------------------------\n"
          ]
        }
      ]
    },
    {
      "cell_type": "code",
      "source": [
        "### Implement the model below in PyTorch using class.\n",
        "### Make sure the output shape is correct. (slide 39)\n",
        "\n",
        "input = torch.randn(1, 1, 28, 28)\n",
        "\n",
        "# With kernels and equal stride\n",
        "m1 = nn.Conv2d(1, 32, kernel_size =3, padding=\"same\", stride=1)\n",
        "m1_act = nn.ReLU()\n",
        "\n",
        "hidden1 = m1(input)\n",
        "hidden1 = m1_act(hidden1)\n",
        "print('input size: '+ str(np.shape(input)))\n",
        "print('hidden1 size: '+ str(np.shape(hidden1)))\n",
        "\n",
        "m2 = nn.MaxPool2d(2, stride=2)\n",
        "hidden2 = m2(hidden1)\n",
        "print('hidden2 size: '+ str(np.shape(hidden2)))\n",
        "\n",
        "m3 = nn.Conv2d(32, 64, kernel_size = 3, padding=\"same\", stride=1)\n",
        "m3_act = nn.ReLU()\n",
        "\n",
        "hidden3 = m3(hidden2)\n",
        "hidden3 = m3_act(hidden3)\n",
        "print('hidden3 size: '+ str(np.shape(hidden3)))\n",
        "\n",
        "m4 = nn.MaxPool2d(2, stride=2)\n",
        "hidden4 = m4(hidden3)\n",
        "print('hidden4 size: '+ str(np.shape(hidden4)))\n",
        "\n",
        "fc1_layer = torch.flatten(hidden4, 1)\n",
        "print('fc1_layer size: '+ str(np.shape(fc1_layer)))\n",
        "\n",
        "fc2 = nn.Linear(np.shape(fc1_layer)[1], 128)\n",
        "fc2_layer = fc2(fc1_layer)\n",
        "print('fc2_layer size: '+ str(np.shape(fc2_layer)))\n",
        "\n",
        "fc3 = nn.Linear(np.shape(fc2_layer)[1], 10)\n",
        "output = fc3(fc2_layer)\n",
        "print('output size: '+ str(np.shape(output)))\n"
      ],
      "metadata": {
        "colab": {
          "base_uri": "https://localhost:8080/"
        },
        "id": "RHQBZf1-JYJv",
        "outputId": "15d1a017-65da-477e-d2fe-f39b9101a6c9"
      },
      "execution_count": null,
      "outputs": [
        {
          "output_type": "stream",
          "name": "stdout",
          "text": [
            "input size: torch.Size([1, 1, 28, 28])\n",
            "hidden1 size: torch.Size([1, 32, 28, 28])\n",
            "hidden2 size: torch.Size([1, 32, 14, 14])\n",
            "hidden3 size: torch.Size([1, 64, 14, 14])\n",
            "hidden4 size: torch.Size([1, 64, 7, 7])\n",
            "fc1_layer size: torch.Size([1, 3136])\n",
            "fc2_layer size: torch.Size([1, 128])\n",
            "output size: torch.Size([1, 10])\n"
          ]
        }
      ]
    },
    {
      "cell_type": "code",
      "source": [
        "### Implement the model below in PyTorch using class.\n",
        "### Make sure the output shape is correct. (slide 39)\n",
        "\n",
        "class ConvNet(torch.nn.Module):\n",
        "  def __init__(self):\n",
        "    super(ConvNet, self).__init__()\n",
        "    self.m1 = nn.Conv2d(1, 32, kernel_size =3, padding=\"same\", stride=1)\n",
        "    self.m1_act = nn.ReLU()\n",
        "    self.m2 = nn.MaxPool2d(2, stride=2)\n",
        "    self.m3 = nn.Conv2d(32, 64, kernel_size = 3, padding=\"same\", stride=1)\n",
        "    self.m3_act = nn.ReLU()\n",
        "    self.m4 = nn.MaxPool2d(2, stride=2)\n",
        "    self.fc2 = nn.Linear(3136, 128)\n",
        "    self.fc3 = nn.Linear(128, 10)\n",
        "\n",
        "  def forward(self, x):\n",
        "    x = self.m1(x)\n",
        "    x = self.m1_act(x)\n",
        "    x = self.m2(x)\n",
        "    x = self.m3(x)\n",
        "    x = self.m3_act(x)\n",
        "    x = self.m4(x)\n",
        "    x = torch.flatten(x, 1)\n",
        "    x = self.fc2(x)\n",
        "    x = self.fc3(x)\n",
        "    return x\n",
        "\n",
        "from torchsummary import summary\n",
        "model = ConvNet()\n",
        "summary(model, (1, 28, 28))"
      ],
      "metadata": {
        "colab": {
          "base_uri": "https://localhost:8080/"
        },
        "id": "XnaU8Xd1J8H3",
        "outputId": "c3605da0-bfbe-4d0f-a4f1-2a3366ee5404"
      },
      "execution_count": null,
      "outputs": [
        {
          "output_type": "stream",
          "name": "stdout",
          "text": [
            "----------------------------------------------------------------\n",
            "        Layer (type)               Output Shape         Param #\n",
            "================================================================\n",
            "            Conv2d-1           [-1, 32, 28, 28]             320\n",
            "              ReLU-2           [-1, 32, 28, 28]               0\n",
            "         MaxPool2d-3           [-1, 32, 14, 14]               0\n",
            "            Conv2d-4           [-1, 64, 14, 14]          18,496\n",
            "              ReLU-5           [-1, 64, 14, 14]               0\n",
            "         MaxPool2d-6             [-1, 64, 7, 7]               0\n",
            "            Linear-7                  [-1, 128]         401,536\n",
            "            Linear-8                   [-1, 10]           1,290\n",
            "================================================================\n",
            "Total params: 421,642\n",
            "Trainable params: 421,642\n",
            "Non-trainable params: 0\n",
            "----------------------------------------------------------------\n",
            "Input size (MB): 0.00\n",
            "Forward/backward pass size (MB): 0.65\n",
            "Params size (MB): 1.61\n",
            "Estimated Total Size (MB): 2.26\n",
            "----------------------------------------------------------------\n"
          ]
        }
      ]
    }
  ]
}